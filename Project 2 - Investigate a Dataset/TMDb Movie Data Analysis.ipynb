{
 "cells": [
  {
   "cell_type": "markdown",
   "metadata": {},
   "source": [
    "# Project: TMDb Movie Data Analysis\n",
    "\n",
    "## Table of Contents\n",
    "<ul>\n",
    "<li><a href=\"#intro\">Introduction</a></li>\n",
    "<li><a href=\"#wrangling1\">Data Wrangling (1)</a></li>\n",
    "<li><a href=\"#cleaning1\">Data Cleaning (1)</a></li>\n",
    "<li><a href=\"#eda1\">Exploratory Data Analysis (1)</a></li>\n",
    "<li><a href=\"#cleaning2\">Data Cleaning (2)</a></li>\n",
    "<li><a href=\"#wrangling2\">Data Wrangling (2)</a></li>\n",
    "<li><a href=\"#eda2\">Exploratory Data Analysis (2)</a></li>\n",
    "<li><a href=\"#conclusions\">Conclusions</a></li>\n",
    "<li><a href=\"#conclusions\">References</a></li>\n",
    "</ul>"
   ]
  },
  {
   "cell_type": "markdown",
   "metadata": {
    "tags": []
   },
   "source": [
    "<a id='intro'></a>\n",
    "## Introduction\n",
    "\n",
    "In this project, I am going to analyze dataset belongs to movies. I will try to answer the following questions:\n",
    "1) Which genre is most common from 2010 to 2015?\n",
    "<br>\n",
    "2) What is behavior profit from 2010 to 2015 in average?\n",
    "<br>\n",
    "3) What is the proportion of movies longer than 100 mins?\n"
   ]
  },
  {
   "cell_type": "code",
   "execution_count": 1,
   "metadata": {
    "tags": []
   },
   "outputs": [],
   "source": [
    "# Use this cell to set up import statements for all of the packages that you\n",
    "#   plan to use.\n",
    "\n",
    "# Remember to include a 'magic word' so that your visualizations are plotted\n",
    "#   inline with the notebook. See this page for more:\n",
    "#   http://ipython.readthedocs.io/en/stable/interactive/magics.html\n",
    "\n",
    "import pandas as pd\n",
    "import numpy as np\n",
    "import matplotlib.pyplot as plt\n",
    "%matplotlib inline"
   ]
  },
  {
   "cell_type": "markdown",
   "metadata": {},
   "source": [
    "-------\n",
    "--------"
   ]
  },
  {
   "cell_type": "markdown",
   "metadata": {},
   "source": [
    "<a id='wrangling1'></a>\n",
    "## Data Wrangling (1)\n",
    "\n",
    "\n",
    "### General Properties"
   ]
  },
  {
   "cell_type": "code",
   "execution_count": 2,
   "metadata": {},
   "outputs": [
    {
     "data": {
      "text/html": [
       "<div>\n",
       "<style scoped>\n",
       "    .dataframe tbody tr th:only-of-type {\n",
       "        vertical-align: middle;\n",
       "    }\n",
       "\n",
       "    .dataframe tbody tr th {\n",
       "        vertical-align: top;\n",
       "    }\n",
       "\n",
       "    .dataframe thead th {\n",
       "        text-align: right;\n",
       "    }\n",
       "</style>\n",
       "<table border=\"1\" class=\"dataframe\">\n",
       "  <thead>\n",
       "    <tr style=\"text-align: right;\">\n",
       "      <th></th>\n",
       "      <th>id</th>\n",
       "      <th>imdb_id</th>\n",
       "      <th>popularity</th>\n",
       "      <th>budget</th>\n",
       "      <th>revenue</th>\n",
       "      <th>original_title</th>\n",
       "      <th>cast</th>\n",
       "      <th>homepage</th>\n",
       "      <th>director</th>\n",
       "      <th>tagline</th>\n",
       "      <th>...</th>\n",
       "      <th>overview</th>\n",
       "      <th>runtime</th>\n",
       "      <th>genres</th>\n",
       "      <th>production_companies</th>\n",
       "      <th>release_date</th>\n",
       "      <th>vote_count</th>\n",
       "      <th>vote_average</th>\n",
       "      <th>release_year</th>\n",
       "      <th>budget_adj</th>\n",
       "      <th>revenue_adj</th>\n",
       "    </tr>\n",
       "  </thead>\n",
       "  <tbody>\n",
       "    <tr>\n",
       "      <th>0</th>\n",
       "      <td>135397</td>\n",
       "      <td>tt0369610</td>\n",
       "      <td>32.985763</td>\n",
       "      <td>150000000</td>\n",
       "      <td>1513528810</td>\n",
       "      <td>Jurassic World</td>\n",
       "      <td>Chris Pratt|Bryce Dallas Howard|Irrfan Khan|Vi...</td>\n",
       "      <td>http://www.jurassicworld.com/</td>\n",
       "      <td>Colin Trevorrow</td>\n",
       "      <td>The park is open.</td>\n",
       "      <td>...</td>\n",
       "      <td>Twenty-two years after the events of Jurassic ...</td>\n",
       "      <td>124</td>\n",
       "      <td>Action|Adventure|Science Fiction|Thriller</td>\n",
       "      <td>Universal Studios|Amblin Entertainment|Legenda...</td>\n",
       "      <td>6/9/15</td>\n",
       "      <td>5562</td>\n",
       "      <td>6.5</td>\n",
       "      <td>2015</td>\n",
       "      <td>1.379999e+08</td>\n",
       "      <td>1.392446e+09</td>\n",
       "    </tr>\n",
       "    <tr>\n",
       "      <th>1</th>\n",
       "      <td>76341</td>\n",
       "      <td>tt1392190</td>\n",
       "      <td>28.419936</td>\n",
       "      <td>150000000</td>\n",
       "      <td>378436354</td>\n",
       "      <td>Mad Max: Fury Road</td>\n",
       "      <td>Tom Hardy|Charlize Theron|Hugh Keays-Byrne|Nic...</td>\n",
       "      <td>http://www.madmaxmovie.com/</td>\n",
       "      <td>George Miller</td>\n",
       "      <td>What a Lovely Day.</td>\n",
       "      <td>...</td>\n",
       "      <td>An apocalyptic story set in the furthest reach...</td>\n",
       "      <td>120</td>\n",
       "      <td>Action|Adventure|Science Fiction|Thriller</td>\n",
       "      <td>Village Roadshow Pictures|Kennedy Miller Produ...</td>\n",
       "      <td>5/13/15</td>\n",
       "      <td>6185</td>\n",
       "      <td>7.1</td>\n",
       "      <td>2015</td>\n",
       "      <td>1.379999e+08</td>\n",
       "      <td>3.481613e+08</td>\n",
       "    </tr>\n",
       "    <tr>\n",
       "      <th>2</th>\n",
       "      <td>262500</td>\n",
       "      <td>tt2908446</td>\n",
       "      <td>13.112507</td>\n",
       "      <td>110000000</td>\n",
       "      <td>295238201</td>\n",
       "      <td>Insurgent</td>\n",
       "      <td>Shailene Woodley|Theo James|Kate Winslet|Ansel...</td>\n",
       "      <td>http://www.thedivergentseries.movie/#insurgent</td>\n",
       "      <td>Robert Schwentke</td>\n",
       "      <td>One Choice Can Destroy You</td>\n",
       "      <td>...</td>\n",
       "      <td>Beatrice Prior must confront her inner demons ...</td>\n",
       "      <td>119</td>\n",
       "      <td>Adventure|Science Fiction|Thriller</td>\n",
       "      <td>Summit Entertainment|Mandeville Films|Red Wago...</td>\n",
       "      <td>3/18/15</td>\n",
       "      <td>2480</td>\n",
       "      <td>6.3</td>\n",
       "      <td>2015</td>\n",
       "      <td>1.012000e+08</td>\n",
       "      <td>2.716190e+08</td>\n",
       "    </tr>\n",
       "    <tr>\n",
       "      <th>3</th>\n",
       "      <td>140607</td>\n",
       "      <td>tt2488496</td>\n",
       "      <td>11.173104</td>\n",
       "      <td>200000000</td>\n",
       "      <td>2068178225</td>\n",
       "      <td>Star Wars: The Force Awakens</td>\n",
       "      <td>Harrison Ford|Mark Hamill|Carrie Fisher|Adam D...</td>\n",
       "      <td>http://www.starwars.com/films/star-wars-episod...</td>\n",
       "      <td>J.J. Abrams</td>\n",
       "      <td>Every generation has a story.</td>\n",
       "      <td>...</td>\n",
       "      <td>Thirty years after defeating the Galactic Empi...</td>\n",
       "      <td>136</td>\n",
       "      <td>Action|Adventure|Science Fiction|Fantasy</td>\n",
       "      <td>Lucasfilm|Truenorth Productions|Bad Robot</td>\n",
       "      <td>12/15/15</td>\n",
       "      <td>5292</td>\n",
       "      <td>7.5</td>\n",
       "      <td>2015</td>\n",
       "      <td>1.839999e+08</td>\n",
       "      <td>1.902723e+09</td>\n",
       "    </tr>\n",
       "    <tr>\n",
       "      <th>4</th>\n",
       "      <td>168259</td>\n",
       "      <td>tt2820852</td>\n",
       "      <td>9.335014</td>\n",
       "      <td>190000000</td>\n",
       "      <td>1506249360</td>\n",
       "      <td>Furious 7</td>\n",
       "      <td>Vin Diesel|Paul Walker|Jason Statham|Michelle ...</td>\n",
       "      <td>http://www.furious7.com/</td>\n",
       "      <td>James Wan</td>\n",
       "      <td>Vengeance Hits Home</td>\n",
       "      <td>...</td>\n",
       "      <td>Deckard Shaw seeks revenge against Dominic Tor...</td>\n",
       "      <td>137</td>\n",
       "      <td>Action|Crime|Thriller</td>\n",
       "      <td>Universal Pictures|Original Film|Media Rights ...</td>\n",
       "      <td>4/1/15</td>\n",
       "      <td>2947</td>\n",
       "      <td>7.3</td>\n",
       "      <td>2015</td>\n",
       "      <td>1.747999e+08</td>\n",
       "      <td>1.385749e+09</td>\n",
       "    </tr>\n",
       "  </tbody>\n",
       "</table>\n",
       "<p>5 rows × 21 columns</p>\n",
       "</div>"
      ],
      "text/plain": [
       "       id    imdb_id  popularity     budget     revenue  \\\n",
       "0  135397  tt0369610   32.985763  150000000  1513528810   \n",
       "1   76341  tt1392190   28.419936  150000000   378436354   \n",
       "2  262500  tt2908446   13.112507  110000000   295238201   \n",
       "3  140607  tt2488496   11.173104  200000000  2068178225   \n",
       "4  168259  tt2820852    9.335014  190000000  1506249360   \n",
       "\n",
       "                 original_title  \\\n",
       "0                Jurassic World   \n",
       "1            Mad Max: Fury Road   \n",
       "2                     Insurgent   \n",
       "3  Star Wars: The Force Awakens   \n",
       "4                     Furious 7   \n",
       "\n",
       "                                                cast  \\\n",
       "0  Chris Pratt|Bryce Dallas Howard|Irrfan Khan|Vi...   \n",
       "1  Tom Hardy|Charlize Theron|Hugh Keays-Byrne|Nic...   \n",
       "2  Shailene Woodley|Theo James|Kate Winslet|Ansel...   \n",
       "3  Harrison Ford|Mark Hamill|Carrie Fisher|Adam D...   \n",
       "4  Vin Diesel|Paul Walker|Jason Statham|Michelle ...   \n",
       "\n",
       "                                            homepage          director  \\\n",
       "0                      http://www.jurassicworld.com/   Colin Trevorrow   \n",
       "1                        http://www.madmaxmovie.com/     George Miller   \n",
       "2     http://www.thedivergentseries.movie/#insurgent  Robert Schwentke   \n",
       "3  http://www.starwars.com/films/star-wars-episod...       J.J. Abrams   \n",
       "4                           http://www.furious7.com/         James Wan   \n",
       "\n",
       "                         tagline  ...  \\\n",
       "0              The park is open.  ...   \n",
       "1             What a Lovely Day.  ...   \n",
       "2     One Choice Can Destroy You  ...   \n",
       "3  Every generation has a story.  ...   \n",
       "4            Vengeance Hits Home  ...   \n",
       "\n",
       "                                            overview runtime  \\\n",
       "0  Twenty-two years after the events of Jurassic ...     124   \n",
       "1  An apocalyptic story set in the furthest reach...     120   \n",
       "2  Beatrice Prior must confront her inner demons ...     119   \n",
       "3  Thirty years after defeating the Galactic Empi...     136   \n",
       "4  Deckard Shaw seeks revenge against Dominic Tor...     137   \n",
       "\n",
       "                                      genres  \\\n",
       "0  Action|Adventure|Science Fiction|Thriller   \n",
       "1  Action|Adventure|Science Fiction|Thriller   \n",
       "2         Adventure|Science Fiction|Thriller   \n",
       "3   Action|Adventure|Science Fiction|Fantasy   \n",
       "4                      Action|Crime|Thriller   \n",
       "\n",
       "                                production_companies release_date vote_count  \\\n",
       "0  Universal Studios|Amblin Entertainment|Legenda...       6/9/15       5562   \n",
       "1  Village Roadshow Pictures|Kennedy Miller Produ...      5/13/15       6185   \n",
       "2  Summit Entertainment|Mandeville Films|Red Wago...      3/18/15       2480   \n",
       "3          Lucasfilm|Truenorth Productions|Bad Robot     12/15/15       5292   \n",
       "4  Universal Pictures|Original Film|Media Rights ...       4/1/15       2947   \n",
       "\n",
       "   vote_average  release_year    budget_adj   revenue_adj  \n",
       "0           6.5          2015  1.379999e+08  1.392446e+09  \n",
       "1           7.1          2015  1.379999e+08  3.481613e+08  \n",
       "2           6.3          2015  1.012000e+08  2.716190e+08  \n",
       "3           7.5          2015  1.839999e+08  1.902723e+09  \n",
       "4           7.3          2015  1.747999e+08  1.385749e+09  \n",
       "\n",
       "[5 rows x 21 columns]"
      ]
     },
     "execution_count": 2,
     "metadata": {},
     "output_type": "execute_result"
    }
   ],
   "source": [
    "# Load your data and print out a few lines. Perform operations to inspect data\n",
    "#   types and look for instances of missing or possibly errant data.\n",
    "df = pd.read_csv('tmdb-movies.csv')\n",
    "df.head()"
   ]
  },
  {
   "cell_type": "code",
   "execution_count": 3,
   "metadata": {},
   "outputs": [
    {
     "data": {
      "text/plain": [
       "(10866, 21)"
      ]
     },
     "execution_count": 3,
     "metadata": {},
     "output_type": "execute_result"
    }
   ],
   "source": [
    "df.shape"
   ]
  },
  {
   "cell_type": "markdown",
   "metadata": {},
   "source": [
    "> There are\n",
    "> - 10866 Rows\n",
    "> - 21 Columns"
   ]
  },
  {
   "cell_type": "code",
   "execution_count": 4,
   "metadata": {},
   "outputs": [
    {
     "name": "stdout",
     "output_type": "stream",
     "text": [
      "<class 'pandas.core.frame.DataFrame'>\n",
      "RangeIndex: 10866 entries, 0 to 10865\n",
      "Data columns (total 21 columns):\n",
      " #   Column                Non-Null Count  Dtype  \n",
      "---  ------                --------------  -----  \n",
      " 0   id                    10866 non-null  int64  \n",
      " 1   imdb_id               10856 non-null  object \n",
      " 2   popularity            10866 non-null  float64\n",
      " 3   budget                10866 non-null  int64  \n",
      " 4   revenue               10866 non-null  int64  \n",
      " 5   original_title        10866 non-null  object \n",
      " 6   cast                  10790 non-null  object \n",
      " 7   homepage              2936 non-null   object \n",
      " 8   director              10822 non-null  object \n",
      " 9   tagline               8042 non-null   object \n",
      " 10  keywords              9373 non-null   object \n",
      " 11  overview              10862 non-null  object \n",
      " 12  runtime               10866 non-null  int64  \n",
      " 13  genres                10843 non-null  object \n",
      " 14  production_companies  9836 non-null   object \n",
      " 15  release_date          10866 non-null  object \n",
      " 16  vote_count            10866 non-null  int64  \n",
      " 17  vote_average          10866 non-null  float64\n",
      " 18  release_year          10866 non-null  int64  \n",
      " 19  budget_adj            10866 non-null  float64\n",
      " 20  revenue_adj           10866 non-null  float64\n",
      "dtypes: float64(4), int64(6), object(11)\n",
      "memory usage: 1.7+ MB\n"
     ]
    }
   ],
   "source": [
    "df.info()"
   ]
  },
  {
   "cell_type": "markdown",
   "metadata": {},
   "source": [
    "> In first look:\n",
    "> - No problems with data types\n",
    "> - There are many unneeded columns:\n",
    "    * imdb_id\n",
    "    * homepage\n",
    "    * tagline\n",
    "    * overview\n",
    "    * release_date\n",
    "    * budget_adj\n",
    "    * revenue_adj\n",
    "    \n",
    "> Note: I don't know what's different between budget and budget_adj & revenue and revenue_adj. So, I am dealing with budget and revenue."
   ]
  },
  {
   "cell_type": "code",
   "execution_count": 5,
   "metadata": {},
   "outputs": [
    {
     "data": {
      "text/plain": [
       "id                         0\n",
       "imdb_id                   10\n",
       "popularity                 0\n",
       "budget                     0\n",
       "revenue                    0\n",
       "original_title             0\n",
       "cast                      76\n",
       "homepage                7930\n",
       "director                  44\n",
       "tagline                 2824\n",
       "keywords                1493\n",
       "overview                   4\n",
       "runtime                    0\n",
       "genres                    23\n",
       "production_companies    1030\n",
       "release_date               0\n",
       "vote_count                 0\n",
       "vote_average               0\n",
       "release_year               0\n",
       "budget_adj                 0\n",
       "revenue_adj                0\n",
       "dtype: int64"
      ]
     },
     "execution_count": 5,
     "metadata": {},
     "output_type": "execute_result"
    }
   ],
   "source": [
    "df.isna().sum()"
   ]
  },
  {
   "cell_type": "markdown",
   "metadata": {},
   "source": [
    "> To know how many null values in each column"
   ]
  },
  {
   "cell_type": "code",
   "execution_count": 6,
   "metadata": {},
   "outputs": [
    {
     "data": {
      "text/plain": [
       "1"
      ]
     },
     "execution_count": 6,
     "metadata": {},
     "output_type": "execute_result"
    }
   ],
   "source": [
    "df.duplicated().sum()"
   ]
  },
  {
   "cell_type": "markdown",
   "metadata": {},
   "source": [
    "> There is 1 duplicate row"
   ]
  },
  {
   "cell_type": "code",
   "execution_count": 7,
   "metadata": {},
   "outputs": [
    {
     "data": {
      "text/html": [
       "<div>\n",
       "<style scoped>\n",
       "    .dataframe tbody tr th:only-of-type {\n",
       "        vertical-align: middle;\n",
       "    }\n",
       "\n",
       "    .dataframe tbody tr th {\n",
       "        vertical-align: top;\n",
       "    }\n",
       "\n",
       "    .dataframe thead th {\n",
       "        text-align: right;\n",
       "    }\n",
       "</style>\n",
       "<table border=\"1\" class=\"dataframe\">\n",
       "  <thead>\n",
       "    <tr style=\"text-align: right;\">\n",
       "      <th></th>\n",
       "      <th>id</th>\n",
       "      <th>popularity</th>\n",
       "      <th>budget</th>\n",
       "      <th>revenue</th>\n",
       "      <th>runtime</th>\n",
       "      <th>vote_count</th>\n",
       "      <th>vote_average</th>\n",
       "      <th>release_year</th>\n",
       "      <th>budget_adj</th>\n",
       "      <th>revenue_adj</th>\n",
       "    </tr>\n",
       "  </thead>\n",
       "  <tbody>\n",
       "    <tr>\n",
       "      <th>count</th>\n",
       "      <td>10866.000000</td>\n",
       "      <td>10866.000000</td>\n",
       "      <td>1.086600e+04</td>\n",
       "      <td>1.086600e+04</td>\n",
       "      <td>10866.000000</td>\n",
       "      <td>10866.000000</td>\n",
       "      <td>10866.000000</td>\n",
       "      <td>10866.000000</td>\n",
       "      <td>1.086600e+04</td>\n",
       "      <td>1.086600e+04</td>\n",
       "    </tr>\n",
       "    <tr>\n",
       "      <th>mean</th>\n",
       "      <td>66064.177434</td>\n",
       "      <td>0.646441</td>\n",
       "      <td>1.462570e+07</td>\n",
       "      <td>3.982332e+07</td>\n",
       "      <td>102.070863</td>\n",
       "      <td>217.389748</td>\n",
       "      <td>5.974922</td>\n",
       "      <td>2001.322658</td>\n",
       "      <td>1.755104e+07</td>\n",
       "      <td>5.136436e+07</td>\n",
       "    </tr>\n",
       "    <tr>\n",
       "      <th>std</th>\n",
       "      <td>92130.136561</td>\n",
       "      <td>1.000185</td>\n",
       "      <td>3.091321e+07</td>\n",
       "      <td>1.170035e+08</td>\n",
       "      <td>31.381405</td>\n",
       "      <td>575.619058</td>\n",
       "      <td>0.935142</td>\n",
       "      <td>12.812941</td>\n",
       "      <td>3.430616e+07</td>\n",
       "      <td>1.446325e+08</td>\n",
       "    </tr>\n",
       "    <tr>\n",
       "      <th>min</th>\n",
       "      <td>5.000000</td>\n",
       "      <td>0.000065</td>\n",
       "      <td>0.000000e+00</td>\n",
       "      <td>0.000000e+00</td>\n",
       "      <td>0.000000</td>\n",
       "      <td>10.000000</td>\n",
       "      <td>1.500000</td>\n",
       "      <td>1960.000000</td>\n",
       "      <td>0.000000e+00</td>\n",
       "      <td>0.000000e+00</td>\n",
       "    </tr>\n",
       "    <tr>\n",
       "      <th>25%</th>\n",
       "      <td>10596.250000</td>\n",
       "      <td>0.207583</td>\n",
       "      <td>0.000000e+00</td>\n",
       "      <td>0.000000e+00</td>\n",
       "      <td>90.000000</td>\n",
       "      <td>17.000000</td>\n",
       "      <td>5.400000</td>\n",
       "      <td>1995.000000</td>\n",
       "      <td>0.000000e+00</td>\n",
       "      <td>0.000000e+00</td>\n",
       "    </tr>\n",
       "    <tr>\n",
       "      <th>50%</th>\n",
       "      <td>20669.000000</td>\n",
       "      <td>0.383856</td>\n",
       "      <td>0.000000e+00</td>\n",
       "      <td>0.000000e+00</td>\n",
       "      <td>99.000000</td>\n",
       "      <td>38.000000</td>\n",
       "      <td>6.000000</td>\n",
       "      <td>2006.000000</td>\n",
       "      <td>0.000000e+00</td>\n",
       "      <td>0.000000e+00</td>\n",
       "    </tr>\n",
       "    <tr>\n",
       "      <th>75%</th>\n",
       "      <td>75610.000000</td>\n",
       "      <td>0.713817</td>\n",
       "      <td>1.500000e+07</td>\n",
       "      <td>2.400000e+07</td>\n",
       "      <td>111.000000</td>\n",
       "      <td>145.750000</td>\n",
       "      <td>6.600000</td>\n",
       "      <td>2011.000000</td>\n",
       "      <td>2.085325e+07</td>\n",
       "      <td>3.369710e+07</td>\n",
       "    </tr>\n",
       "    <tr>\n",
       "      <th>max</th>\n",
       "      <td>417859.000000</td>\n",
       "      <td>32.985763</td>\n",
       "      <td>4.250000e+08</td>\n",
       "      <td>2.781506e+09</td>\n",
       "      <td>900.000000</td>\n",
       "      <td>9767.000000</td>\n",
       "      <td>9.200000</td>\n",
       "      <td>2015.000000</td>\n",
       "      <td>4.250000e+08</td>\n",
       "      <td>2.827124e+09</td>\n",
       "    </tr>\n",
       "  </tbody>\n",
       "</table>\n",
       "</div>"
      ],
      "text/plain": [
       "                  id    popularity        budget       revenue       runtime  \\\n",
       "count   10866.000000  10866.000000  1.086600e+04  1.086600e+04  10866.000000   \n",
       "mean    66064.177434      0.646441  1.462570e+07  3.982332e+07    102.070863   \n",
       "std     92130.136561      1.000185  3.091321e+07  1.170035e+08     31.381405   \n",
       "min         5.000000      0.000065  0.000000e+00  0.000000e+00      0.000000   \n",
       "25%     10596.250000      0.207583  0.000000e+00  0.000000e+00     90.000000   \n",
       "50%     20669.000000      0.383856  0.000000e+00  0.000000e+00     99.000000   \n",
       "75%     75610.000000      0.713817  1.500000e+07  2.400000e+07    111.000000   \n",
       "max    417859.000000     32.985763  4.250000e+08  2.781506e+09    900.000000   \n",
       "\n",
       "         vote_count  vote_average  release_year    budget_adj   revenue_adj  \n",
       "count  10866.000000  10866.000000  10866.000000  1.086600e+04  1.086600e+04  \n",
       "mean     217.389748      5.974922   2001.322658  1.755104e+07  5.136436e+07  \n",
       "std      575.619058      0.935142     12.812941  3.430616e+07  1.446325e+08  \n",
       "min       10.000000      1.500000   1960.000000  0.000000e+00  0.000000e+00  \n",
       "25%       17.000000      5.400000   1995.000000  0.000000e+00  0.000000e+00  \n",
       "50%       38.000000      6.000000   2006.000000  0.000000e+00  0.000000e+00  \n",
       "75%      145.750000      6.600000   2011.000000  2.085325e+07  3.369710e+07  \n",
       "max     9767.000000      9.200000   2015.000000  4.250000e+08  2.827124e+09  "
      ]
     },
     "execution_count": 7,
     "metadata": {},
     "output_type": "execute_result"
    }
   ],
   "source": [
    "df.describe()"
   ]
  },
  {
   "cell_type": "markdown",
   "metadata": {},
   "source": [
    "1) When we look at `min`, there is 0 values (Not Acceptable and affect in other statistics measures) in some rows at\n",
    "> - budget\n",
    "> - revenue\t\n",
    "> - runtime\n",
    "> - budget_adj\n",
    "> - revenue_adj\n",
    "\n",
    "2) 50% (Q2) of values is 0 in:\n",
    "> - revenue\t\n",
    "> - runtime\n",
    "> - budget_adj\n",
    "> - revenue_adj"
   ]
  },
  {
   "cell_type": "markdown",
   "metadata": {},
   "source": [
    "----------------\n",
    "----------------"
   ]
  },
  {
   "cell_type": "markdown",
   "metadata": {},
   "source": [
    "<a id='Cleaning1'></a>\n",
    "## Data Cleaning (1)"
   ]
  },
  {
   "cell_type": "markdown",
   "metadata": {},
   "source": [
    "### Copy Dataset"
   ]
  },
  {
   "cell_type": "code",
   "execution_count": 8,
   "metadata": {},
   "outputs": [],
   "source": [
    "df_clean = df.copy()"
   ]
  },
  {
   "cell_type": "markdown",
   "metadata": {},
   "source": [
    "### Make id as index"
   ]
  },
  {
   "cell_type": "code",
   "execution_count": 10,
   "metadata": {},
   "outputs": [],
   "source": [
    "df_clean.set_index('id', inplace=True)"
   ]
  },
  {
   "cell_type": "markdown",
   "metadata": {},
   "source": [
    "### Drop Unneeded Columns"
   ]
  },
  {
   "cell_type": "code",
   "execution_count": 11,
   "metadata": {},
   "outputs": [
    {
     "name": "stdout",
     "output_type": "stream",
     "text": [
      "(10866, 20)\n",
      "Index(['imdb_id', 'popularity', 'budget', 'revenue', 'original_title', 'cast',\n",
      "       'homepage', 'director', 'tagline', 'keywords', 'overview', 'runtime',\n",
      "       'genres', 'production_companies', 'release_date', 'vote_count',\n",
      "       'vote_average', 'release_year', 'budget_adj', 'revenue_adj'],\n",
      "      dtype='object')\n"
     ]
    }
   ],
   "source": [
    "print(df_clean.shape)\n",
    "print(df_clean.columns)\n",
    "df_clean.drop(['imdb_id', 'homepage', 'tagline', 'overview', 'release_date', 'budget_adj', 'revenue_adj'], axis=1,inplace=True)"
   ]
  },
  {
   "cell_type": "code",
   "execution_count": 12,
   "metadata": {},
   "outputs": [
    {
     "name": "stdout",
     "output_type": "stream",
     "text": [
      "Index(['popularity', 'budget', 'revenue', 'original_title', 'cast', 'director',\n",
      "       'keywords', 'runtime', 'genres', 'production_companies', 'vote_count',\n",
      "       'vote_average', 'release_year'],\n",
      "      dtype='object')\n"
     ]
    },
    {
     "data": {
      "text/plain": [
       "(10866, 13)"
      ]
     },
     "execution_count": 12,
     "metadata": {},
     "output_type": "execute_result"
    }
   ],
   "source": [
    "print(df_clean.columns)\n",
    "df_clean.shape"
   ]
  },
  {
   "cell_type": "markdown",
   "metadata": {},
   "source": [
    "### Drop Duplicated Rows\n"
   ]
  },
  {
   "cell_type": "code",
   "execution_count": 13,
   "metadata": {},
   "outputs": [
    {
     "data": {
      "text/plain": [
       "1"
      ]
     },
     "execution_count": 13,
     "metadata": {},
     "output_type": "execute_result"
    }
   ],
   "source": [
    "sum(df_clean.duplicated())"
   ]
  },
  {
   "cell_type": "code",
   "execution_count": 14,
   "metadata": {},
   "outputs": [
    {
     "name": "stdout",
     "output_type": "stream",
     "text": [
      "10866\n",
      "10865\n"
     ]
    }
   ],
   "source": [
    "print(df_clean.shape[0])\n",
    "df_clean.drop_duplicates(inplace=True)\n",
    "print(df_clean.shape[0])"
   ]
  },
  {
   "cell_type": "code",
   "execution_count": 15,
   "metadata": {},
   "outputs": [
    {
     "data": {
      "text/plain": [
       "0"
      ]
     },
     "execution_count": 15,
     "metadata": {},
     "output_type": "execute_result"
    }
   ],
   "source": [
    "sum(df_clean.duplicated())"
   ]
  },
  {
   "cell_type": "markdown",
   "metadata": {},
   "source": [
    "### Handling Missing Values"
   ]
  },
  {
   "cell_type": "code",
   "execution_count": 16,
   "metadata": {},
   "outputs": [
    {
     "data": {
      "text/plain": [
       "popularity                 0\n",
       "budget                     0\n",
       "revenue                    0\n",
       "original_title             0\n",
       "cast                      76\n",
       "director                  44\n",
       "keywords                1493\n",
       "runtime                    0\n",
       "genres                    23\n",
       "production_companies    1030\n",
       "vote_count                 0\n",
       "vote_average               0\n",
       "release_year               0\n",
       "dtype: int64"
      ]
     },
     "execution_count": 16,
     "metadata": {},
     "output_type": "execute_result"
    }
   ],
   "source": [
    "df_clean.isna().sum()"
   ]
  },
  {
   "cell_type": "markdown",
   "metadata": {},
   "source": [
    "---\n",
    "Drop rows which have null in `keywords`"
   ]
  },
  {
   "cell_type": "code",
   "execution_count": 17,
   "metadata": {},
   "outputs": [],
   "source": [
    "df_clean = df_clean[~df_clean['keywords'].isna()]"
   ]
  },
  {
   "cell_type": "code",
   "execution_count": 18,
   "metadata": {},
   "outputs": [
    {
     "data": {
      "text/plain": [
       "popularity                0\n",
       "budget                    0\n",
       "revenue                   0\n",
       "original_title            0\n",
       "cast                     45\n",
       "director                 16\n",
       "keywords                  0\n",
       "runtime                   0\n",
       "genres                    5\n",
       "production_companies    667\n",
       "vote_count                0\n",
       "vote_average              0\n",
       "release_year              0\n",
       "dtype: int64"
      ]
     },
     "execution_count": 18,
     "metadata": {},
     "output_type": "execute_result"
    }
   ],
   "source": [
    "df_clean.isna().sum()"
   ]
  },
  {
   "cell_type": "markdown",
   "metadata": {},
   "source": [
    "---\n",
    "Drop rows which have null in `production_companies`"
   ]
  },
  {
   "cell_type": "code",
   "execution_count": 19,
   "metadata": {},
   "outputs": [],
   "source": [
    "df_clean = df_clean[~df_clean['production_companies'].isna()]"
   ]
  },
  {
   "cell_type": "code",
   "execution_count": 20,
   "metadata": {},
   "outputs": [
    {
     "data": {
      "text/plain": [
       "popularity               0\n",
       "budget                   0\n",
       "revenue                  0\n",
       "original_title           0\n",
       "cast                    25\n",
       "director                10\n",
       "keywords                 0\n",
       "runtime                  0\n",
       "genres                   4\n",
       "production_companies     0\n",
       "vote_count               0\n",
       "vote_average             0\n",
       "release_year             0\n",
       "dtype: int64"
      ]
     },
     "execution_count": 20,
     "metadata": {},
     "output_type": "execute_result"
    }
   ],
   "source": [
    "df_clean.isna().sum()"
   ]
  },
  {
   "cell_type": "markdown",
   "metadata": {},
   "source": [
    "---\n",
    "Drop rows which have null in `cast`"
   ]
  },
  {
   "cell_type": "code",
   "execution_count": 21,
   "metadata": {},
   "outputs": [],
   "source": [
    "df_clean = df_clean[~df_clean['cast'].isna()]"
   ]
  },
  {
   "cell_type": "code",
   "execution_count": 22,
   "metadata": {},
   "outputs": [
    {
     "data": {
      "text/plain": [
       "popularity               0\n",
       "budget                   0\n",
       "revenue                  0\n",
       "original_title           0\n",
       "cast                     0\n",
       "director                10\n",
       "keywords                 0\n",
       "runtime                  0\n",
       "genres                   4\n",
       "production_companies     0\n",
       "vote_count               0\n",
       "vote_average             0\n",
       "release_year             0\n",
       "dtype: int64"
      ]
     },
     "execution_count": 22,
     "metadata": {},
     "output_type": "execute_result"
    }
   ],
   "source": [
    "df_clean.isna().sum()"
   ]
  },
  {
   "cell_type": "markdown",
   "metadata": {},
   "source": [
    "---\n",
    "Drop rows which have null in `genres`"
   ]
  },
  {
   "cell_type": "code",
   "execution_count": 23,
   "metadata": {},
   "outputs": [],
   "source": [
    "df_clean = df_clean[~df_clean['genres'].isna()]"
   ]
  },
  {
   "cell_type": "code",
   "execution_count": 24,
   "metadata": {},
   "outputs": [
    {
     "data": {
      "text/plain": [
       "popularity               0\n",
       "budget                   0\n",
       "revenue                  0\n",
       "original_title           0\n",
       "cast                     0\n",
       "director                10\n",
       "keywords                 0\n",
       "runtime                  0\n",
       "genres                   0\n",
       "production_companies     0\n",
       "vote_count               0\n",
       "vote_average             0\n",
       "release_year             0\n",
       "dtype: int64"
      ]
     },
     "execution_count": 24,
     "metadata": {},
     "output_type": "execute_result"
    }
   ],
   "source": [
    "df_clean.isna().sum()"
   ]
  },
  {
   "cell_type": "markdown",
   "metadata": {},
   "source": [
    "---\n",
    "`director`: There is only 10 null value, and we can easly get `director` for a movie"
   ]
  },
  {
   "cell_type": "code",
   "execution_count": 27,
   "metadata": {},
   "outputs": [
    {
     "data": {
      "text/html": [
       "<div>\n",
       "<style scoped>\n",
       "    .dataframe tbody tr th:only-of-type {\n",
       "        vertical-align: middle;\n",
       "    }\n",
       "\n",
       "    .dataframe tbody tr th {\n",
       "        vertical-align: top;\n",
       "    }\n",
       "\n",
       "    .dataframe thead th {\n",
       "        text-align: right;\n",
       "    }\n",
       "</style>\n",
       "<table border=\"1\" class=\"dataframe\">\n",
       "  <thead>\n",
       "    <tr style=\"text-align: right;\">\n",
       "      <th></th>\n",
       "      <th>popularity</th>\n",
       "      <th>budget</th>\n",
       "      <th>revenue</th>\n",
       "      <th>original_title</th>\n",
       "      <th>cast</th>\n",
       "      <th>director</th>\n",
       "      <th>keywords</th>\n",
       "      <th>runtime</th>\n",
       "      <th>genres</th>\n",
       "      <th>production_companies</th>\n",
       "      <th>vote_count</th>\n",
       "      <th>vote_average</th>\n",
       "      <th>release_year</th>\n",
       "    </tr>\n",
       "    <tr>\n",
       "      <th>id</th>\n",
       "      <th></th>\n",
       "      <th></th>\n",
       "      <th></th>\n",
       "      <th></th>\n",
       "      <th></th>\n",
       "      <th></th>\n",
       "      <th></th>\n",
       "      <th></th>\n",
       "      <th></th>\n",
       "      <th></th>\n",
       "      <th></th>\n",
       "      <th></th>\n",
       "      <th></th>\n",
       "    </tr>\n",
       "  </thead>\n",
       "  <tbody>\n",
       "    <tr>\n",
       "      <th>320996</th>\n",
       "      <td>0.126594</td>\n",
       "      <td>0</td>\n",
       "      <td>0</td>\n",
       "      <td>Iliza Shlesinger: Freezing Hot</td>\n",
       "      <td>Iliza Shlesinger</td>\n",
       "      <td>NaN</td>\n",
       "      <td>stand-up|stand up comedy|aftercreditsstinger|d...</td>\n",
       "      <td>71</td>\n",
       "      <td>Comedy</td>\n",
       "      <td>New Wave Entertainment</td>\n",
       "      <td>14</td>\n",
       "      <td>6.6</td>\n",
       "      <td>2015</td>\n",
       "    </tr>\n",
       "    <tr>\n",
       "      <th>355131</th>\n",
       "      <td>0.108072</td>\n",
       "      <td>0</td>\n",
       "      <td>0</td>\n",
       "      <td>Sense8: Creating the World</td>\n",
       "      <td>Tuppence Middleton|Bae Doona |Brian J. Smith|A...</td>\n",
       "      <td>NaN</td>\n",
       "      <td>sexuality|superhuman|superpower|making of|soci...</td>\n",
       "      <td>25</td>\n",
       "      <td>Documentary|Science Fiction</td>\n",
       "      <td>Netflix</td>\n",
       "      <td>12</td>\n",
       "      <td>7.5</td>\n",
       "      <td>2015</td>\n",
       "    </tr>\n",
       "    <tr>\n",
       "      <th>321160</th>\n",
       "      <td>0.100910</td>\n",
       "      <td>0</td>\n",
       "      <td>0</td>\n",
       "      <td>With This Ring</td>\n",
       "      <td>Regina Hall|Jill Scott|Eve|Brooklyn Sudano|Dei...</td>\n",
       "      <td>NaN</td>\n",
       "      <td>wedding</td>\n",
       "      <td>105</td>\n",
       "      <td>Comedy|Romance</td>\n",
       "      <td>Lifetime Television|Sony Pictures Television</td>\n",
       "      <td>14</td>\n",
       "      <td>6.5</td>\n",
       "      <td>2015</td>\n",
       "    </tr>\n",
       "    <tr>\n",
       "      <th>259910</th>\n",
       "      <td>0.291253</td>\n",
       "      <td>0</td>\n",
       "      <td>0</td>\n",
       "      <td>Marvel Studios: Assembling a Universe</td>\n",
       "      <td>Robert Downey Jr.|Chris Hemsworth|Chris Evans|...</td>\n",
       "      <td>NaN</td>\n",
       "      <td>superhero|marvel cinematic universe</td>\n",
       "      <td>43</td>\n",
       "      <td>TV Movie|Documentary</td>\n",
       "      <td>Marvel Studios|ABC Studios</td>\n",
       "      <td>32</td>\n",
       "      <td>6.3</td>\n",
       "      <td>2014</td>\n",
       "    </tr>\n",
       "    <tr>\n",
       "      <th>256561</th>\n",
       "      <td>0.119891</td>\n",
       "      <td>150000</td>\n",
       "      <td>0</td>\n",
       "      <td>Free to Play</td>\n",
       "      <td>Benedict Lim|Danil Ishutin|Clinton Loomis</td>\n",
       "      <td>NaN</td>\n",
       "      <td>competition|video game|esports|dota 2</td>\n",
       "      <td>75</td>\n",
       "      <td>Documentary</td>\n",
       "      <td>Valve</td>\n",
       "      <td>40</td>\n",
       "      <td>7.0</td>\n",
       "      <td>2014</td>\n",
       "    </tr>\n",
       "    <tr>\n",
       "      <th>133365</th>\n",
       "      <td>0.256703</td>\n",
       "      <td>0</td>\n",
       "      <td>0</td>\n",
       "      <td>The Diary of Anne Frank</td>\n",
       "      <td>Ellie Kendrick|Kate Ashfield|Geoff Breton|Feli...</td>\n",
       "      <td>NaN</td>\n",
       "      <td>diary|anne frank|jewish|girl|nazi occupation</td>\n",
       "      <td>100</td>\n",
       "      <td>Drama</td>\n",
       "      <td>Darlow Smithson Productions|British Broadcasti...</td>\n",
       "      <td>19</td>\n",
       "      <td>7.5</td>\n",
       "      <td>2009</td>\n",
       "    </tr>\n",
       "    <tr>\n",
       "      <th>284019</th>\n",
       "      <td>0.168210</td>\n",
       "      <td>0</td>\n",
       "      <td>0</td>\n",
       "      <td>Phineas and Ferb: Mission Marvel</td>\n",
       "      <td>Vincent Martella|Thomas Brodie-Sangster|Ashley...</td>\n",
       "      <td>NaN</td>\n",
       "      <td>marvel comic|superhero</td>\n",
       "      <td>44</td>\n",
       "      <td>Action|Adventure|Science Fiction</td>\n",
       "      <td>Disney Television Animation</td>\n",
       "      <td>13</td>\n",
       "      <td>5.9</td>\n",
       "      <td>2013</td>\n",
       "    </tr>\n",
       "    <tr>\n",
       "      <th>25565</th>\n",
       "      <td>0.040311</td>\n",
       "      <td>0</td>\n",
       "      <td>0</td>\n",
       "      <td>Transformers: Beginnings</td>\n",
       "      <td>Peter Cullen|Frank Welker|Mark Ryan|Patrick Ha...</td>\n",
       "      <td>NaN</td>\n",
       "      <td>transformers|giant robot|robot|transforming ro...</td>\n",
       "      <td>22</td>\n",
       "      <td>Animation|Action|Thriller|Science Fiction</td>\n",
       "      <td>DreamWorks Home Entertainment</td>\n",
       "      <td>34</td>\n",
       "      <td>5.8</td>\n",
       "      <td>2007</td>\n",
       "    </tr>\n",
       "    <tr>\n",
       "      <th>225804</th>\n",
       "      <td>0.118854</td>\n",
       "      <td>0</td>\n",
       "      <td>0</td>\n",
       "      <td>The Making of 'The Nightmare Before Christmas'</td>\n",
       "      <td>Mike Belzer|Tim Burton|Bonita DeCarlo|Greg Dyk...</td>\n",
       "      <td>NaN</td>\n",
       "      <td>behind the scenes|stop motion animation|animat...</td>\n",
       "      <td>25</td>\n",
       "      <td>Documentary</td>\n",
       "      <td>Buena Vista Home Entertainment</td>\n",
       "      <td>15</td>\n",
       "      <td>7.5</td>\n",
       "      <td>1993</td>\n",
       "    </tr>\n",
       "    <tr>\n",
       "      <th>34038</th>\n",
       "      <td>0.114034</td>\n",
       "      <td>0</td>\n",
       "      <td>0</td>\n",
       "      <td>Magical Mystery Tour</td>\n",
       "      <td>John Lennon|Paul McCartney|George Harrison|Rin...</td>\n",
       "      <td>NaN</td>\n",
       "      <td>fab four|john lennon|surrealism|the beatles|pa...</td>\n",
       "      <td>55</td>\n",
       "      <td>Music</td>\n",
       "      <td>MPI Home Video</td>\n",
       "      <td>15</td>\n",
       "      <td>5.8</td>\n",
       "      <td>1967</td>\n",
       "    </tr>\n",
       "  </tbody>\n",
       "</table>\n",
       "</div>"
      ],
      "text/plain": [
       "        popularity  budget  revenue  \\\n",
       "id                                    \n",
       "320996    0.126594       0        0   \n",
       "355131    0.108072       0        0   \n",
       "321160    0.100910       0        0   \n",
       "259910    0.291253       0        0   \n",
       "256561    0.119891  150000        0   \n",
       "133365    0.256703       0        0   \n",
       "284019    0.168210       0        0   \n",
       "25565     0.040311       0        0   \n",
       "225804    0.118854       0        0   \n",
       "34038     0.114034       0        0   \n",
       "\n",
       "                                        original_title  \\\n",
       "id                                                       \n",
       "320996                  Iliza Shlesinger: Freezing Hot   \n",
       "355131                      Sense8: Creating the World   \n",
       "321160                                  With This Ring   \n",
       "259910           Marvel Studios: Assembling a Universe   \n",
       "256561                                    Free to Play   \n",
       "133365                         The Diary of Anne Frank   \n",
       "284019                Phineas and Ferb: Mission Marvel   \n",
       "25565                         Transformers: Beginnings   \n",
       "225804  The Making of 'The Nightmare Before Christmas'   \n",
       "34038                             Magical Mystery Tour   \n",
       "\n",
       "                                                     cast director  \\\n",
       "id                                                                   \n",
       "320996                                   Iliza Shlesinger      NaN   \n",
       "355131  Tuppence Middleton|Bae Doona |Brian J. Smith|A...      NaN   \n",
       "321160  Regina Hall|Jill Scott|Eve|Brooklyn Sudano|Dei...      NaN   \n",
       "259910  Robert Downey Jr.|Chris Hemsworth|Chris Evans|...      NaN   \n",
       "256561          Benedict Lim|Danil Ishutin|Clinton Loomis      NaN   \n",
       "133365  Ellie Kendrick|Kate Ashfield|Geoff Breton|Feli...      NaN   \n",
       "284019  Vincent Martella|Thomas Brodie-Sangster|Ashley...      NaN   \n",
       "25565   Peter Cullen|Frank Welker|Mark Ryan|Patrick Ha...      NaN   \n",
       "225804  Mike Belzer|Tim Burton|Bonita DeCarlo|Greg Dyk...      NaN   \n",
       "34038   John Lennon|Paul McCartney|George Harrison|Rin...      NaN   \n",
       "\n",
       "                                                 keywords  runtime  \\\n",
       "id                                                                   \n",
       "320996  stand-up|stand up comedy|aftercreditsstinger|d...       71   \n",
       "355131  sexuality|superhuman|superpower|making of|soci...       25   \n",
       "321160                                            wedding      105   \n",
       "259910                superhero|marvel cinematic universe       43   \n",
       "256561              competition|video game|esports|dota 2       75   \n",
       "133365       diary|anne frank|jewish|girl|nazi occupation      100   \n",
       "284019                             marvel comic|superhero       44   \n",
       "25565   transformers|giant robot|robot|transforming ro...       22   \n",
       "225804  behind the scenes|stop motion animation|animat...       25   \n",
       "34038   fab four|john lennon|surrealism|the beatles|pa...       55   \n",
       "\n",
       "                                           genres  \\\n",
       "id                                                  \n",
       "320996                                     Comedy   \n",
       "355131                Documentary|Science Fiction   \n",
       "321160                             Comedy|Romance   \n",
       "259910                       TV Movie|Documentary   \n",
       "256561                                Documentary   \n",
       "133365                                      Drama   \n",
       "284019           Action|Adventure|Science Fiction   \n",
       "25565   Animation|Action|Thriller|Science Fiction   \n",
       "225804                                Documentary   \n",
       "34038                                       Music   \n",
       "\n",
       "                                     production_companies  vote_count  \\\n",
       "id                                                                      \n",
       "320996                             New Wave Entertainment          14   \n",
       "355131                                            Netflix          12   \n",
       "321160       Lifetime Television|Sony Pictures Television          14   \n",
       "259910                         Marvel Studios|ABC Studios          32   \n",
       "256561                                              Valve          40   \n",
       "133365  Darlow Smithson Productions|British Broadcasti...          19   \n",
       "284019                        Disney Television Animation          13   \n",
       "25565                       DreamWorks Home Entertainment          34   \n",
       "225804                     Buena Vista Home Entertainment          15   \n",
       "34038                                      MPI Home Video          15   \n",
       "\n",
       "        vote_average  release_year  \n",
       "id                                  \n",
       "320996           6.6          2015  \n",
       "355131           7.5          2015  \n",
       "321160           6.5          2015  \n",
       "259910           6.3          2014  \n",
       "256561           7.0          2014  \n",
       "133365           7.5          2009  \n",
       "284019           5.9          2013  \n",
       "25565            5.8          2007  \n",
       "225804           7.5          1993  \n",
       "34038            5.8          1967  "
      ]
     },
     "execution_count": 27,
     "metadata": {},
     "output_type": "execute_result"
    }
   ],
   "source": [
    "director_mask = df_clean[df_clean['director'].isna()].copy()\n",
    "director_mask"
   ]
  },
  {
   "cell_type": "markdown",
   "metadata": {},
   "source": [
    "In my search on google:\n",
    "\n",
    "id | original_title | director\n",
    "--- | --- | ---\n",
    "320996 | George Harrison |  George Harrison\n",
    "355131 | Sense8: Creating the World | Josh Oreck \\| Lana Wachowski\n",
    "321160 | With This Ring | Nzingha Stewart\n",
    "259910 | Marvel Studios: Assembling a Universe | N/A\n",
    "256561 | Free to Play | Valve Company\n",
    "133365 | The Diary of Anne Frank | George Stevens\n",
    "284019 | Phineas and Ferb: Mission Marvel |  Robert F. Hughes \\| Sue Perrotto\n",
    "25565 | Transformers: Beginnings | Harold Hayes Jr. \\| Craig Phillips \\| Michael White Jr. \n",
    "225804 | The Making of 'The Nightmare Before Christmas' | Henry Selick\n",
    "34038 | Magical Mystery Tour | The Beatles"
   ]
  },
  {
   "cell_type": "markdown",
   "metadata": {},
   "source": [
    "I'll drop the row with `id = 259910` that has unknown director"
   ]
  },
  {
   "cell_type": "code",
   "execution_count": 32,
   "metadata": {
    "scrolled": true
   },
   "outputs": [
    {
     "data": {
      "text/plain": [
       "popularity                                                       0.291253\n",
       "budget                                                                  0\n",
       "revenue                                                                 0\n",
       "original_title                      Marvel Studios: Assembling a Universe\n",
       "cast                    Robert Downey Jr.|Chris Hemsworth|Chris Evans|...\n",
       "director                                                              NaN\n",
       "keywords                              superhero|marvel cinematic universe\n",
       "runtime                                                                43\n",
       "genres                                               TV Movie|Documentary\n",
       "production_companies                           Marvel Studios|ABC Studios\n",
       "vote_count                                                             32\n",
       "vote_average                                                          6.3\n",
       "release_year                                                         2014\n",
       "Name: 259910, dtype: object"
      ]
     },
     "execution_count": 32,
     "metadata": {},
     "output_type": "execute_result"
    }
   ],
   "source": [
    "df_clean.loc[259910]"
   ]
  },
  {
   "cell_type": "code",
   "execution_count": 42,
   "metadata": {
    "scrolled": true
   },
   "outputs": [],
   "source": [
    "df_clean = df_clean.drop(259910)"
   ]
  },
  {
   "cell_type": "markdown",
   "metadata": {},
   "source": [
    "Fill `director` null values "
   ]
  },
  {
   "cell_type": "code",
   "execution_count": 44,
   "metadata": {},
   "outputs": [],
   "source": [
    "def fill_directors (df: pd.DataFrame, id_director: dict):\n",
    "    for id in id_director:\n",
    "        df.at[id,'director'] = id_director.get(id)"
   ]
  },
  {
   "cell_type": "code",
   "execution_count": 45,
   "metadata": {},
   "outputs": [],
   "source": [
    "id_director = {\n",
    "    320996 : 'George Harrison',\n",
    "    355131 : 'Josh Oreck | Lana Wachowski' ,\n",
    "    321160 : 'Nzingha Stewart' ,\n",
    "    256561 :'Valve Company' ,\n",
    "    133365 :'George Stevens' ,\n",
    "    284019 : 'Robert F. Hughes | Sue Perrotto' ,\n",
    "    25565 : 'Harold Hayes Jr. | Craig Phillips | Michael White Jr.' ,\n",
    "    225804 : 'Henry Selick',\n",
    "    34038 : 'The Beatles',\n",
    "}"
   ]
  },
  {
   "cell_type": "code",
   "execution_count": 46,
   "metadata": {},
   "outputs": [],
   "source": [
    "fill_directors (df_clean, id_director)"
   ]
  },
  {
   "cell_type": "code",
   "execution_count": 47,
   "metadata": {},
   "outputs": [
    {
     "name": "stdout",
     "output_type": "stream",
     "text": [
      "<class 'pandas.core.frame.DataFrame'>\n",
      "Int64Index: 8675 entries, 135397 to 22293\n",
      "Data columns (total 13 columns):\n",
      " #   Column                Non-Null Count  Dtype  \n",
      "---  ------                --------------  -----  \n",
      " 0   popularity            8675 non-null   float64\n",
      " 1   budget                8675 non-null   int64  \n",
      " 2   revenue               8675 non-null   int64  \n",
      " 3   original_title        8675 non-null   object \n",
      " 4   cast                  8675 non-null   object \n",
      " 5   director              8675 non-null   object \n",
      " 6   keywords              8675 non-null   object \n",
      " 7   runtime               8675 non-null   int64  \n",
      " 8   genres                8675 non-null   object \n",
      " 9   production_companies  8675 non-null   object \n",
      " 10  vote_count            8675 non-null   int64  \n",
      " 11  vote_average          8675 non-null   float64\n",
      " 12  release_year          8675 non-null   int64  \n",
      "dtypes: float64(2), int64(5), object(6)\n",
      "memory usage: 1.2+ MB\n"
     ]
    }
   ],
   "source": [
    "df_clean.info()"
   ]
  },
  {
   "cell_type": "code",
   "execution_count": 48,
   "metadata": {},
   "outputs": [
    {
     "data": {
      "text/plain": [
       "popularity              0\n",
       "budget                  0\n",
       "revenue                 0\n",
       "original_title          0\n",
       "cast                    0\n",
       "director                0\n",
       "keywords                0\n",
       "runtime                 0\n",
       "genres                  0\n",
       "production_companies    0\n",
       "vote_count              0\n",
       "vote_average            0\n",
       "release_year            0\n",
       "dtype: int64"
      ]
     },
     "execution_count": 48,
     "metadata": {},
     "output_type": "execute_result"
    }
   ],
   "source": [
    "df_clean.isnull().sum()"
   ]
  },
  {
   "cell_type": "markdown",
   "metadata": {},
   "source": [
    "<a id='eda1'></a>\n",
    "## Exploratory Data Analysis (1)\n"
   ]
  },
  {
   "cell_type": "code",
   "execution_count": 49,
   "metadata": {},
   "outputs": [
    {
     "data": {
      "text/html": [
       "<div>\n",
       "<style scoped>\n",
       "    .dataframe tbody tr th:only-of-type {\n",
       "        vertical-align: middle;\n",
       "    }\n",
       "\n",
       "    .dataframe tbody tr th {\n",
       "        vertical-align: top;\n",
       "    }\n",
       "\n",
       "    .dataframe thead th {\n",
       "        text-align: right;\n",
       "    }\n",
       "</style>\n",
       "<table border=\"1\" class=\"dataframe\">\n",
       "  <thead>\n",
       "    <tr style=\"text-align: right;\">\n",
       "      <th></th>\n",
       "      <th>popularity</th>\n",
       "      <th>budget</th>\n",
       "      <th>revenue</th>\n",
       "      <th>runtime</th>\n",
       "      <th>vote_count</th>\n",
       "      <th>vote_average</th>\n",
       "      <th>release_year</th>\n",
       "    </tr>\n",
       "  </thead>\n",
       "  <tbody>\n",
       "    <tr>\n",
       "      <th>count</th>\n",
       "      <td>8675.000000</td>\n",
       "      <td>8.675000e+03</td>\n",
       "      <td>8.675000e+03</td>\n",
       "      <td>8675.000000</td>\n",
       "      <td>8675.000000</td>\n",
       "      <td>8675.000000</td>\n",
       "      <td>8675.000000</td>\n",
       "    </tr>\n",
       "    <tr>\n",
       "      <th>mean</th>\n",
       "      <td>0.741300</td>\n",
       "      <td>1.769102e+07</td>\n",
       "      <td>4.919754e+07</td>\n",
       "      <td>103.767608</td>\n",
       "      <td>263.951009</td>\n",
       "      <td>6.004311</td>\n",
       "      <td>2000.135216</td>\n",
       "    </tr>\n",
       "    <tr>\n",
       "      <th>std</th>\n",
       "      <td>1.087274</td>\n",
       "      <td>3.356103e+07</td>\n",
       "      <td>1.288958e+08</td>\n",
       "      <td>26.252897</td>\n",
       "      <td>634.915121</td>\n",
       "      <td>0.893617</td>\n",
       "      <td>13.224426</td>\n",
       "    </tr>\n",
       "    <tr>\n",
       "      <th>min</th>\n",
       "      <td>0.000188</td>\n",
       "      <td>0.000000e+00</td>\n",
       "      <td>0.000000e+00</td>\n",
       "      <td>0.000000</td>\n",
       "      <td>10.000000</td>\n",
       "      <td>1.500000</td>\n",
       "      <td>1960.000000</td>\n",
       "    </tr>\n",
       "    <tr>\n",
       "      <th>25%</th>\n",
       "      <td>0.249420</td>\n",
       "      <td>0.000000e+00</td>\n",
       "      <td>0.000000e+00</td>\n",
       "      <td>91.000000</td>\n",
       "      <td>20.000000</td>\n",
       "      <td>5.500000</td>\n",
       "      <td>1993.000000</td>\n",
       "    </tr>\n",
       "    <tr>\n",
       "      <th>50%</th>\n",
       "      <td>0.449041</td>\n",
       "      <td>1.400000e+06</td>\n",
       "      <td>1.730660e+05</td>\n",
       "      <td>100.000000</td>\n",
       "      <td>54.000000</td>\n",
       "      <td>6.100000</td>\n",
       "      <td>2004.000000</td>\n",
       "    </tr>\n",
       "    <tr>\n",
       "      <th>75%</th>\n",
       "      <td>0.841944</td>\n",
       "      <td>2.100000e+07</td>\n",
       "      <td>3.883704e+07</td>\n",
       "      <td>113.000000</td>\n",
       "      <td>199.000000</td>\n",
       "      <td>6.600000</td>\n",
       "      <td>2011.000000</td>\n",
       "    </tr>\n",
       "    <tr>\n",
       "      <th>max</th>\n",
       "      <td>32.985763</td>\n",
       "      <td>4.250000e+08</td>\n",
       "      <td>2.781506e+09</td>\n",
       "      <td>705.000000</td>\n",
       "      <td>9767.000000</td>\n",
       "      <td>8.700000</td>\n",
       "      <td>2015.000000</td>\n",
       "    </tr>\n",
       "  </tbody>\n",
       "</table>\n",
       "</div>"
      ],
      "text/plain": [
       "        popularity        budget       revenue      runtime   vote_count  \\\n",
       "count  8675.000000  8.675000e+03  8.675000e+03  8675.000000  8675.000000   \n",
       "mean      0.741300  1.769102e+07  4.919754e+07   103.767608   263.951009   \n",
       "std       1.087274  3.356103e+07  1.288958e+08    26.252897   634.915121   \n",
       "min       0.000188  0.000000e+00  0.000000e+00     0.000000    10.000000   \n",
       "25%       0.249420  0.000000e+00  0.000000e+00    91.000000    20.000000   \n",
       "50%       0.449041  1.400000e+06  1.730660e+05   100.000000    54.000000   \n",
       "75%       0.841944  2.100000e+07  3.883704e+07   113.000000   199.000000   \n",
       "max      32.985763  4.250000e+08  2.781506e+09   705.000000  9767.000000   \n",
       "\n",
       "       vote_average  release_year  \n",
       "count   8675.000000   8675.000000  \n",
       "mean       6.004311   2000.135216  \n",
       "std        0.893617     13.224426  \n",
       "min        1.500000   1960.000000  \n",
       "25%        5.500000   1993.000000  \n",
       "50%        6.100000   2004.000000  \n",
       "75%        6.600000   2011.000000  \n",
       "max        8.700000   2015.000000  "
      ]
     },
     "execution_count": 49,
     "metadata": {},
     "output_type": "execute_result"
    }
   ],
   "source": [
    "df_clean.describe()"
   ]
  },
  {
   "cell_type": "code",
   "execution_count": 50,
   "metadata": {},
   "outputs": [
    {
     "data": {
      "image/png": "[encoded data removed]",
      "text/plain": [
       "<Figure size 720x720 with 9 Axes>"
      ]
     },
     "metadata": {
      "needs_background": "light"
     },
     "output_type": "display_data"
    }
   ],
   "source": [
    "df_clean.hist(figsize=(10,10));"
   ]
  },
  {
   "cell_type": "markdown",
   "metadata": {},
   "source": [
    "When we look at `min`, there is 0 values (Not Acceptable and affect in other statistics measures) in some rows at\n",
    "> - budget\n",
    "> - revenue\t\n",
    "> - runtime"
   ]
  },
  {
   "cell_type": "code",
   "execution_count": 51,
   "metadata": {},
   "outputs": [
    {
     "data": {
      "text/plain": [
       "popularity              3948\n",
       "budget                  3948\n",
       "revenue                 3948\n",
       "original_title          3948\n",
       "cast                    3948\n",
       "director                3948\n",
       "keywords                3948\n",
       "runtime                 3948\n",
       "genres                  3948\n",
       "production_companies    3948\n",
       "vote_count              3948\n",
       "vote_average            3948\n",
       "release_year            3948\n",
       "dtype: int64"
      ]
     },
     "execution_count": 51,
     "metadata": {},
     "output_type": "execute_result"
    }
   ],
   "source": [
    "df_clean[df_clean['budget'] == 0].count()"
   ]
  },
  {
   "cell_type": "code",
   "execution_count": 52,
   "metadata": {
    "scrolled": true
   },
   "outputs": [
    {
     "data": {
      "text/plain": [
       "popularity              4139\n",
       "budget                  4139\n",
       "revenue                 4139\n",
       "original_title          4139\n",
       "cast                    4139\n",
       "director                4139\n",
       "keywords                4139\n",
       "runtime                 4139\n",
       "genres                  4139\n",
       "production_companies    4139\n",
       "vote_count              4139\n",
       "vote_average            4139\n",
       "release_year            4139\n",
       "dtype: int64"
      ]
     },
     "execution_count": 52,
     "metadata": {},
     "output_type": "execute_result"
    }
   ],
   "source": [
    "df_clean[df_clean['revenue'] == 0].count()"
   ]
  },
  {
   "cell_type": "code",
   "execution_count": 53,
   "metadata": {},
   "outputs": [
    {
     "data": {
      "text/plain": [
       "popularity              7\n",
       "budget                  7\n",
       "revenue                 7\n",
       "original_title          7\n",
       "cast                    7\n",
       "director                7\n",
       "keywords                7\n",
       "runtime                 7\n",
       "genres                  7\n",
       "production_companies    7\n",
       "vote_count              7\n",
       "vote_average            7\n",
       "release_year            7\n",
       "dtype: int64"
      ]
     },
     "execution_count": 53,
     "metadata": {},
     "output_type": "execute_result"
    }
   ],
   "source": [
    "df_clean[df_clean['runtime'] == 0].count()"
   ]
  },
  {
   "cell_type": "markdown",
   "metadata": {},
   "source": [
    "<a id='cleaning2'></a>\n",
    "## Data Cleaning (2)"
   ]
  },
  {
   "cell_type": "markdown",
   "metadata": {},
   "source": [
    "### Handling Missing Values"
   ]
  },
  {
   "cell_type": "code",
   "execution_count": 54,
   "metadata": {},
   "outputs": [
    {
     "data": {
      "text/plain": [
       "(8675, 13)"
      ]
     },
     "execution_count": 54,
     "metadata": {},
     "output_type": "execute_result"
    }
   ],
   "source": [
    "df_clean.shape"
   ]
  },
  {
   "cell_type": "code",
   "execution_count": 55,
   "metadata": {},
   "outputs": [],
   "source": [
    "df_clean = df_clean[df_clean['budget'] != 0]\n",
    "df_clean = df_clean[df_clean['revenue'] != 0]\n",
    "df_clean = df_clean[df_clean['runtime'] != 0]"
   ]
  },
  {
   "cell_type": "code",
   "execution_count": 56,
   "metadata": {},
   "outputs": [
    {
     "data": {
      "text/plain": [
       "(3677, 13)"
      ]
     },
     "execution_count": 56,
     "metadata": {},
     "output_type": "execute_result"
    }
   ],
   "source": [
    "df_clean.shape"
   ]
  },
  {
   "cell_type": "markdown",
   "metadata": {},
   "source": [
    "<a id='wrangling2'></a>\n",
    "## Data Wrangling (2)"
   ]
  },
  {
   "cell_type": "markdown",
   "metadata": {},
   "source": [
    "### Create Profit Column"
   ]
  },
  {
   "cell_type": "code",
   "execution_count": 57,
   "metadata": {},
   "outputs": [],
   "source": [
    "df_clean['profit'] = df_clean['revenue'] - df_clean['budget']"
   ]
  },
  {
   "cell_type": "code",
   "execution_count": 58,
   "metadata": {},
   "outputs": [
    {
     "name": "stdout",
     "output_type": "stream",
     "text": [
      "<class 'pandas.core.frame.DataFrame'>\n",
      "Int64Index: 3677 entries, 135397 to 2161\n",
      "Data columns (total 14 columns):\n",
      " #   Column                Non-Null Count  Dtype  \n",
      "---  ------                --------------  -----  \n",
      " 0   popularity            3677 non-null   float64\n",
      " 1   budget                3677 non-null   int64  \n",
      " 2   revenue               3677 non-null   int64  \n",
      " 3   original_title        3677 non-null   object \n",
      " 4   cast                  3677 non-null   object \n",
      " 5   director              3677 non-null   object \n",
      " 6   keywords              3677 non-null   object \n",
      " 7   runtime               3677 non-null   int64  \n",
      " 8   genres                3677 non-null   object \n",
      " 9   production_companies  3677 non-null   object \n",
      " 10  vote_count            3677 non-null   int64  \n",
      " 11  vote_average          3677 non-null   float64\n",
      " 12  release_year          3677 non-null   int64  \n",
      " 13  profit                3677 non-null   int64  \n",
      "dtypes: float64(2), int64(6), object(6)\n",
      "memory usage: 430.9+ KB\n"
     ]
    }
   ],
   "source": [
    "df_clean.info()"
   ]
  },
  {
   "cell_type": "code",
   "execution_count": 59,
   "metadata": {},
   "outputs": [
    {
     "data": {
      "text/html": [
       "<div>\n",
       "<style scoped>\n",
       "    .dataframe tbody tr th:only-of-type {\n",
       "        vertical-align: middle;\n",
       "    }\n",
       "\n",
       "    .dataframe tbody tr th {\n",
       "        vertical-align: top;\n",
       "    }\n",
       "\n",
       "    .dataframe thead th {\n",
       "        text-align: right;\n",
       "    }\n",
       "</style>\n",
       "<table border=\"1\" class=\"dataframe\">\n",
       "  <thead>\n",
       "    <tr style=\"text-align: right;\">\n",
       "      <th></th>\n",
       "      <th>popularity</th>\n",
       "      <th>budget</th>\n",
       "      <th>revenue</th>\n",
       "      <th>original_title</th>\n",
       "      <th>cast</th>\n",
       "      <th>director</th>\n",
       "      <th>keywords</th>\n",
       "      <th>runtime</th>\n",
       "      <th>genres</th>\n",
       "      <th>production_companies</th>\n",
       "      <th>vote_count</th>\n",
       "      <th>vote_average</th>\n",
       "      <th>release_year</th>\n",
       "      <th>profit</th>\n",
       "    </tr>\n",
       "    <tr>\n",
       "      <th>id</th>\n",
       "      <th></th>\n",
       "      <th></th>\n",
       "      <th></th>\n",
       "      <th></th>\n",
       "      <th></th>\n",
       "      <th></th>\n",
       "      <th></th>\n",
       "      <th></th>\n",
       "      <th></th>\n",
       "      <th></th>\n",
       "      <th></th>\n",
       "      <th></th>\n",
       "      <th></th>\n",
       "      <th></th>\n",
       "    </tr>\n",
       "  </thead>\n",
       "  <tbody>\n",
       "    <tr>\n",
       "      <th>135397</th>\n",
       "      <td>32.985763</td>\n",
       "      <td>150000000</td>\n",
       "      <td>1513528810</td>\n",
       "      <td>Jurassic World</td>\n",
       "      <td>Chris Pratt|Bryce Dallas Howard|Irrfan Khan|Vi...</td>\n",
       "      <td>Colin Trevorrow</td>\n",
       "      <td>monster|dna|tyrannosaurus rex|velociraptor|island</td>\n",
       "      <td>124</td>\n",
       "      <td>Action|Adventure|Science Fiction|Thriller</td>\n",
       "      <td>Universal Studios|Amblin Entertainment|Legenda...</td>\n",
       "      <td>5562</td>\n",
       "      <td>6.5</td>\n",
       "      <td>2015</td>\n",
       "      <td>1363528810</td>\n",
       "    </tr>\n",
       "    <tr>\n",
       "      <th>76341</th>\n",
       "      <td>28.419936</td>\n",
       "      <td>150000000</td>\n",
       "      <td>378436354</td>\n",
       "      <td>Mad Max: Fury Road</td>\n",
       "      <td>Tom Hardy|Charlize Theron|Hugh Keays-Byrne|Nic...</td>\n",
       "      <td>George Miller</td>\n",
       "      <td>future|chase|post-apocalyptic|dystopia|australia</td>\n",
       "      <td>120</td>\n",
       "      <td>Action|Adventure|Science Fiction|Thriller</td>\n",
       "      <td>Village Roadshow Pictures|Kennedy Miller Produ...</td>\n",
       "      <td>6185</td>\n",
       "      <td>7.1</td>\n",
       "      <td>2015</td>\n",
       "      <td>228436354</td>\n",
       "    </tr>\n",
       "    <tr>\n",
       "      <th>262500</th>\n",
       "      <td>13.112507</td>\n",
       "      <td>110000000</td>\n",
       "      <td>295238201</td>\n",
       "      <td>Insurgent</td>\n",
       "      <td>Shailene Woodley|Theo James|Kate Winslet|Ansel...</td>\n",
       "      <td>Robert Schwentke</td>\n",
       "      <td>based on novel|revolution|dystopia|sequel|dyst...</td>\n",
       "      <td>119</td>\n",
       "      <td>Adventure|Science Fiction|Thriller</td>\n",
       "      <td>Summit Entertainment|Mandeville Films|Red Wago...</td>\n",
       "      <td>2480</td>\n",
       "      <td>6.3</td>\n",
       "      <td>2015</td>\n",
       "      <td>185238201</td>\n",
       "    </tr>\n",
       "    <tr>\n",
       "      <th>140607</th>\n",
       "      <td>11.173104</td>\n",
       "      <td>200000000</td>\n",
       "      <td>2068178225</td>\n",
       "      <td>Star Wars: The Force Awakens</td>\n",
       "      <td>Harrison Ford|Mark Hamill|Carrie Fisher|Adam D...</td>\n",
       "      <td>J.J. Abrams</td>\n",
       "      <td>android|spaceship|jedi|space opera|3d</td>\n",
       "      <td>136</td>\n",
       "      <td>Action|Adventure|Science Fiction|Fantasy</td>\n",
       "      <td>Lucasfilm|Truenorth Productions|Bad Robot</td>\n",
       "      <td>5292</td>\n",
       "      <td>7.5</td>\n",
       "      <td>2015</td>\n",
       "      <td>1868178225</td>\n",
       "    </tr>\n",
       "    <tr>\n",
       "      <th>168259</th>\n",
       "      <td>9.335014</td>\n",
       "      <td>190000000</td>\n",
       "      <td>1506249360</td>\n",
       "      <td>Furious 7</td>\n",
       "      <td>Vin Diesel|Paul Walker|Jason Statham|Michelle ...</td>\n",
       "      <td>James Wan</td>\n",
       "      <td>car race|speed|revenge|suspense|car</td>\n",
       "      <td>137</td>\n",
       "      <td>Action|Crime|Thriller</td>\n",
       "      <td>Universal Pictures|Original Film|Media Rights ...</td>\n",
       "      <td>2947</td>\n",
       "      <td>7.3</td>\n",
       "      <td>2015</td>\n",
       "      <td>1316249360</td>\n",
       "    </tr>\n",
       "  </tbody>\n",
       "</table>\n",
       "</div>"
      ],
      "text/plain": [
       "        popularity     budget     revenue                original_title  \\\n",
       "id                                                                        \n",
       "135397   32.985763  150000000  1513528810                Jurassic World   \n",
       "76341    28.419936  150000000   378436354            Mad Max: Fury Road   \n",
       "262500   13.112507  110000000   295238201                     Insurgent   \n",
       "140607   11.173104  200000000  2068178225  Star Wars: The Force Awakens   \n",
       "168259    9.335014  190000000  1506249360                     Furious 7   \n",
       "\n",
       "                                                     cast          director  \\\n",
       "id                                                                            \n",
       "135397  Chris Pratt|Bryce Dallas Howard|Irrfan Khan|Vi...   Colin Trevorrow   \n",
       "76341   Tom Hardy|Charlize Theron|Hugh Keays-Byrne|Nic...     George Miller   \n",
       "262500  Shailene Woodley|Theo James|Kate Winslet|Ansel...  Robert Schwentke   \n",
       "140607  Harrison Ford|Mark Hamill|Carrie Fisher|Adam D...       J.J. Abrams   \n",
       "168259  Vin Diesel|Paul Walker|Jason Statham|Michelle ...         James Wan   \n",
       "\n",
       "                                                 keywords  runtime  \\\n",
       "id                                                                   \n",
       "135397  monster|dna|tyrannosaurus rex|velociraptor|island      124   \n",
       "76341    future|chase|post-apocalyptic|dystopia|australia      120   \n",
       "262500  based on novel|revolution|dystopia|sequel|dyst...      119   \n",
       "140607              android|spaceship|jedi|space opera|3d      136   \n",
       "168259                car race|speed|revenge|suspense|car      137   \n",
       "\n",
       "                                           genres  \\\n",
       "id                                                  \n",
       "135397  Action|Adventure|Science Fiction|Thriller   \n",
       "76341   Action|Adventure|Science Fiction|Thriller   \n",
       "262500         Adventure|Science Fiction|Thriller   \n",
       "140607   Action|Adventure|Science Fiction|Fantasy   \n",
       "168259                      Action|Crime|Thriller   \n",
       "\n",
       "                                     production_companies  vote_count  \\\n",
       "id                                                                      \n",
       "135397  Universal Studios|Amblin Entertainment|Legenda...        5562   \n",
       "76341   Village Roadshow Pictures|Kennedy Miller Produ...        6185   \n",
       "262500  Summit Entertainment|Mandeville Films|Red Wago...        2480   \n",
       "140607          Lucasfilm|Truenorth Productions|Bad Robot        5292   \n",
       "168259  Universal Pictures|Original Film|Media Rights ...        2947   \n",
       "\n",
       "        vote_average  release_year      profit  \n",
       "id                                              \n",
       "135397           6.5          2015  1363528810  \n",
       "76341            7.1          2015   228436354  \n",
       "262500           6.3          2015   185238201  \n",
       "140607           7.5          2015  1868178225  \n",
       "168259           7.3          2015  1316249360  "
      ]
     },
     "execution_count": 59,
     "metadata": {},
     "output_type": "execute_result"
    }
   ],
   "source": [
    "df_clean.head()"
   ]
  },
  {
   "cell_type": "markdown",
   "metadata": {},
   "source": [
    "<a id='eda2'></a>\n",
    "## Exploratory Data Analysis (2)"
   ]
  },
  {
   "cell_type": "code",
   "execution_count": 60,
   "metadata": {},
   "outputs": [
    {
     "data": {
      "image/png": "[encoded data removed]",
      "text/plain": [
       "<Figure size 720x720 with 9 Axes>"
      ]
     },
     "metadata": {
      "needs_background": "light"
     },
     "output_type": "display_data"
    }
   ],
   "source": [
    "df_clean.hist(figsize=(10,10));"
   ]
  },
  {
   "cell_type": "markdown",
   "metadata": {},
   "source": [
    "-----"
   ]
  },
  {
   "cell_type": "markdown",
   "metadata": {},
   "source": [
    "### Research Question 1: Which genre is most common from 2010 to 2015?"
   ]
  },
  {
   "cell_type": "code",
   "execution_count": 61,
   "metadata": {},
   "outputs": [
    {
     "name": "stdout",
     "output_type": "stream",
     "text": [
      "[2010 2011 2012 2013 2014 2015]\n"
     ]
    },
    {
     "data": {
      "text/plain": [
       "numpy.ndarray"
      ]
     },
     "execution_count": 61,
     "metadata": {},
     "output_type": "execute_result"
    }
   ],
   "source": [
    "# Use this, and more code cells, to explore your data. Don't forget to add\n",
    "#   Markdown cells to document your observations and findings.\n",
    "years = np.arange(2010, 2016)\n",
    "print(years)\n",
    "type(years)"
   ]
  },
  {
   "cell_type": "code",
   "execution_count": 62,
   "metadata": {},
   "outputs": [],
   "source": [
    "def popular_genres(df: pd.DataFrame, years_list: np.ndarray):\n",
    "    most_popular_genres = pd.DataFrame(columns = ['genre', 'year'])\n",
    "    for year in years_list:\n",
    "        tmp_df = df[df['release_year'] == year].copy()\n",
    "        for id in tmp_df.index:\n",
    "            genres = list(tmp_df.loc[id]['genres'].split(\"|\"))\n",
    "            for genre in genres:\n",
    "                most_popular_genres = pd.concat([most_popular_genres, pd.DataFrame.from_records([{'genre': genre, 'year': year}])], ignore_index=True)\n",
    "    \n",
    "    # print(f'shape of df is: {most_popular_genres.shape}')\n",
    "    return most_popular_genres.copy()"
   ]
  },
  {
   "cell_type": "code",
   "execution_count": 63,
   "metadata": {},
   "outputs": [
    {
     "data": {
      "text/html": [
       "<div>\n",
       "<style scoped>\n",
       "    .dataframe tbody tr th:only-of-type {\n",
       "        vertical-align: middle;\n",
       "    }\n",
       "\n",
       "    .dataframe tbody tr th {\n",
       "        vertical-align: top;\n",
       "    }\n",
       "\n",
       "    .dataframe thead th {\n",
       "        text-align: right;\n",
       "    }\n",
       "</style>\n",
       "<table border=\"1\" class=\"dataframe\">\n",
       "  <thead>\n",
       "    <tr style=\"text-align: right;\">\n",
       "      <th></th>\n",
       "      <th>genre</th>\n",
       "      <th>year</th>\n",
       "    </tr>\n",
       "  </thead>\n",
       "  <tbody>\n",
       "    <tr>\n",
       "      <th>0</th>\n",
       "      <td>Action</td>\n",
       "      <td>2010</td>\n",
       "    </tr>\n",
       "    <tr>\n",
       "      <th>1</th>\n",
       "      <td>Thriller</td>\n",
       "      <td>2010</td>\n",
       "    </tr>\n",
       "    <tr>\n",
       "      <th>2</th>\n",
       "      <td>Science Fiction</td>\n",
       "      <td>2010</td>\n",
       "    </tr>\n",
       "    <tr>\n",
       "      <th>3</th>\n",
       "      <td>Mystery</td>\n",
       "      <td>2010</td>\n",
       "    </tr>\n",
       "    <tr>\n",
       "      <th>4</th>\n",
       "      <td>Adventure</td>\n",
       "      <td>2010</td>\n",
       "    </tr>\n",
       "  </tbody>\n",
       "</table>\n",
       "</div>"
      ],
      "text/plain": [
       "             genre  year\n",
       "0           Action  2010\n",
       "1         Thriller  2010\n",
       "2  Science Fiction  2010\n",
       "3          Mystery  2010\n",
       "4        Adventure  2010"
      ]
     },
     "execution_count": 63,
     "metadata": {},
     "output_type": "execute_result"
    }
   ],
   "source": [
    "popular_genres = popular_genres(df_clean, years)\n",
    "popular_genres.head()"
   ]
  },
  {
   "cell_type": "code",
   "execution_count": 64,
   "metadata": {},
   "outputs": [
    {
     "data": {
      "image/png": "[encoded data removed]",
      "text/plain": [
       "<Figure size 432x288 with 1 Axes>"
      ]
     },
     "metadata": {
      "needs_background": "light"
     },
     "output_type": "display_data"
    }
   ],
   "source": [
    "popular_genres['genre'].value_counts().plot(kind='bar');\n",
    "plt.title('Genres of Movies from 2010 to 2015')\n",
    "plt.xlabel('Genre')\n",
    "plt.ylabel('Movies')\n",
    "plt.show()"
   ]
  },
  {
   "cell_type": "markdown",
   "metadata": {},
   "source": [
    "> Between 2010 and 2015, there were about 450 movies in the `drama` genre."
   ]
  },
  {
   "cell_type": "markdown",
   "metadata": {},
   "source": [
    "---"
   ]
  },
  {
   "cell_type": "markdown",
   "metadata": {},
   "source": [
    "### Research Question 2: What is behavior profit from 2010 to 2015 in average?"
   ]
  },
  {
   "cell_type": "code",
   "execution_count": 65,
   "metadata": {},
   "outputs": [
    {
     "data": {
      "image/png": "[encoded data removed]",
      "text/plain": [
       "<Figure size 432x288 with 1 Axes>"
      ]
     },
     "metadata": {
      "needs_background": "light"
     },
     "output_type": "display_data"
    }
   ],
   "source": [
    "profit_over_years = df_clean[df_clean['release_year'] >= 2010]\n",
    "profit_over_years.groupby('release_year')['profit'].mean().plot();\n",
    "plt.title('Profit of Movies from 2010 to 2015')\n",
    "plt.xlabel('Year')\n",
    "plt.ylabel('Profit')\n",
    "\n",
    "plt.show()"
   ]
  },
  {
   "cell_type": "markdown",
   "metadata": {},
   "source": [
    "> From 2010 to 2013, profits fluctuated, but after 2013, they seem to be increasing."
   ]
  },
  {
   "cell_type": "markdown",
   "metadata": {},
   "source": [
    "---"
   ]
  },
  {
   "cell_type": "markdown",
   "metadata": {},
   "source": [
    "### Research Question 3: What is the proportion of movies longer than 100 mins?"
   ]
  },
  {
   "cell_type": "code",
   "execution_count": 66,
   "metadata": {},
   "outputs": [
    {
     "data": {
      "text/plain": [
       "1393"
      ]
     },
     "execution_count": 66,
     "metadata": {},
     "output_type": "execute_result"
    }
   ],
   "source": [
    "less_than_hundred = df_clean[df_clean['runtime'] <= 100].count()\n",
    "less_than_hundred[1]"
   ]
  },
  {
   "cell_type": "code",
   "execution_count": 67,
   "metadata": {},
   "outputs": [
    {
     "data": {
      "text/plain": [
       "2284"
      ]
     },
     "execution_count": 67,
     "metadata": {},
     "output_type": "execute_result"
    }
   ],
   "source": [
    "more_than_hundred = df_clean[df_clean['runtime'] > 100].count()\n",
    "more_than_hundred[1]"
   ]
  },
  {
   "cell_type": "code",
   "execution_count": 69,
   "metadata": {},
   "outputs": [
    {
     "data": {
      "image/png": "[encoded data removed]",
      "text/plain": [
       "<Figure size 432x288 with 1 Axes>"
      ]
     },
     "metadata": {},
     "output_type": "display_data"
    }
   ],
   "source": [
    "data = [less_than_hundred[1], more_than_hundred[1]]\n",
    "labels = ['less than 100 mins', 'more than 100 mins']\n",
    "plt.pie(data, labels = labels , autopct=\"%1.2f%%\", explode = [0,0.04])\n",
    "plt.title('Proportion of Movies based on Minutes')\n",
    "plt.show()"
   ]
  },
  {
   "cell_type": "markdown",
   "metadata": {},
   "source": [
    "> About 62% of movies are longer than 100 minutes, and about 38% are shorter."
   ]
  },
  {
   "cell_type": "markdown",
   "metadata": {},
   "source": [
    "---\n",
    "---"
   ]
  },
  {
   "cell_type": "markdown",
   "metadata": {},
   "source": [
    "## Save Clean Dataset"
   ]
  },
  {
   "cell_type": "code",
   "execution_count": 70,
   "metadata": {},
   "outputs": [],
   "source": [
    "df_clean.to_csv('clean_tmdb_movies.csv',index=False)"
   ]
  },
  {
   "cell_type": "markdown",
   "metadata": {},
   "source": [
    "---\n",
    "---"
   ]
  },
  {
   "cell_type": "markdown",
   "metadata": {},
   "source": [
    "<a id='conclusions'></a>\n",
    "## Conclusions"
   ]
  },
  {
   "cell_type": "markdown",
   "metadata": {},
   "source": [
    "In this project I faced many issues but I solve it. When you face issue and solve it, here you learn.\n",
    "<br>\n",
    "\n",
    "After working for a long time, I finally answered the questions mentioned in my introduction:\n",
    "1) Which genre is most common from 2010 to 2015?\n",
    "> Between 2010 and 2015, drama genre is most common by about 450 movies.\n",
    "<br>\n",
    "\n",
    "2) What is behavior profit from 2010 to 2015 in average?\n",
    "> From 2010 to 2013, profits fluctuated, but after 2013, they seem to be increasing.\n",
    "\n",
    "3) What is the proportion of movies longer than 100 mins?\n",
    "> About 62% of movies are longer than 100 minutes, and about 38% are shorter."
   ]
  },
  {
   "cell_type": "markdown",
   "metadata": {},
   "source": [
    "### Limitations"
   ]
  },
  {
   "cell_type": "markdown",
   "metadata": {},
   "source": [
    "1) The dataset contains missing values that easy can get it such `director`. <br>\n",
    "2) There are many rows contains missing values, the original file contains (10866) rows, and the cleaned file contains (3677) rows. That means there are (7189) rows has been dropped. <br>\n",
    "3) The separator | is good idea to put many values in one cell, but dealing with it is not convenient. "
   ]
  },
  {
   "cell_type": "markdown",
   "metadata": {},
   "source": [
    "<a id='References'></a>\n",
    "## References\n",
    "[How to drop rows in Pandas DataFrame by index labels?](https://www.geeksforgeeks.org/how-to-drop-rows-in-pandas-dataframe-by-index-labels/)\n",
    "<br>\n",
    "[How to assign value in DataFrame](https://dataindependent.com/pandas/pandas-set-dataframe-values-at-iat/)\n",
    "<br>\n",
    "[Loop Dictionary](https://www.youtube.com/watch?v=9JJDDKj_tGA)\n",
    "<br>\n",
    "[Program to convert String to a List](https://www.geeksforgeeks.org/python-program-convert-string-list/)\n",
    "<br>\n",
    "[Good alternative to Pandas .append() method, now that it is being deprecated?](https://stackoverflow.com/questions/70837397/good-alternative-to-pandas-append-method-now-that-it-is-being-deprecated)"
   ]
  }
 ],
 "metadata": {
  "kernelspec": {
   "display_name": "Python 3 (ipykernel)",
   "language": "python",
   "name": "python3"
  },
  "language_info": {
   "codemirror_mode": {
    "name": "ipython",
    "version": 3
   },
   "file_extension": ".py",
   "mimetype": "text/x-python",
   "name": "python",
   "nbconvert_exporter": "python",
   "pygments_lexer": "ipython3",
   "version": "3.9.12"
  }
 },
 "nbformat": 4,
 "nbformat_minor": 4
}
