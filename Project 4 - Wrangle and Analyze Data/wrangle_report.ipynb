{
 "cells": [
  {
   "cell_type": "markdown",
   "metadata": {},
   "source": [
    "## Reporting: wragle_report\n",
    "* Create a **300-600 word written report** called \"wrangle_report.pdf\" or \"wrangle_report.html\" that briefly describes your wrangling efforts. This is to be framed as an internal document."
   ]
  },
  {
   "cell_type": "markdown",
   "metadata": {},
   "source": [
    "### 1- Gathering Data"
   ]
  },
  {
   "cell_type": "markdown",
   "metadata": {},
   "source": [
    "Gathering data is the first step in data wrangling. Before gathering, we have no data, and after it, we do. <br>\n",
    "In this project we've gather data from different sources<br>\n",
    "- CSV file: `twitter-archive-enhanced`\n",
    "- Host Server: `image_predictions` by *Request* library on this URL: <br>\n",
    "https://d17h27t6h515a5.cloudfront.net/topher/2017/August/599fd2ad_image-predictions/image-predictions.tsv\n",
    "- API and JSON: `tweet_json`: I'm not using API, but I learn how to deal with JSON file "
   ]
  },
  {
   "cell_type": "markdown",
   "metadata": {},
   "source": [
    "---"
   ]
  },
  {
   "cell_type": "markdown",
   "metadata": {},
   "source": [
    "### 2- Assessing Data"
   ]
  },
  {
   "cell_type": "markdown",
   "metadata": {},
   "source": [
    "Assessing your data is the second step in data wrangling. When assessing, you're like a detective at work, inspecting your dataset for two things: data quality issues (i.e. content issues) and lack of tidiness (i.e. structural issues). <br>\n",
    "In this project I assessed 8 quality issues and 2 tidiness <br>\n",
    "#### Quality Issues\n",
    "##### `twitter-archive-enhanced` table:\n",
    "1. We don't need to deal with replays and retweets - Visual Assessment\n",
    "2. Missing values in some columns - Visual Assessment -> **Completeness**\n",
    "3. Nulls represented as None in dogs type - Visual Assessment -> **Validity**\n",
    "4. timestamp is a object not a DateTime - Programmatic Assessment -> **Validity**\n",
    "5. Wrong data in `name` column - Programmatic Assessment -> **Accuracy** <br>"
   ]
  },
  {
   "cell_type": "markdown",
   "metadata": {},
   "source": [
    "##### `additional_data` table:\n",
    "6. missing 2 records (2354 instead of 2356) - Programmatic Assessemnt -> **Completeness**\n",
    "7. missing 281 records (2075 instead of 2356) - Programmatic Assessemnt -> **Completeness**\n",
    "8. Wrong data - Programmatic Assessment -> **Accuracy**\n",
    "9. some value represent space as ( - ) and some represent as ( _ ) - Programmatic Assessemnt -> **Consistency**"
   ]
  },
  {
   "cell_type": "markdown",
   "metadata": {},
   "source": [
    "#### Tidiness issues\n",
    "##### `twitter-archive-enhanced` table:\n",
    "1. Dog type values represent as column - Visual Assessment -> **each variable is column**"
   ]
  },
  {
   "cell_type": "markdown",
   "metadata": {},
   "source": [
    "#### `additional_data` and `twitter-archive-enhanced` tables:\n",
    "2. We don't need extra table for `additional_data` - Visual Assessment -> **each type of observational unit forms a table**"
   ]
  },
  {
   "cell_type": "markdown",
   "metadata": {},
   "source": [
    "---"
   ]
  },
  {
   "cell_type": "markdown",
   "metadata": {},
   "source": [
    "### 3- Cleaning Data"
   ]
  },
  {
   "cell_type": "markdown",
   "metadata": {},
   "source": [
    "Cleaning your data is the third step in data wrangling. It is where you fix the quality and tidiness issues that you identified in the assess  step. <br>\n",
    "First, I took copy for each dataframe then I fix each issue in previous step using pandas method such:\n",
    "- drop\n",
    "- dropna\n",
    "- replace\n",
    "- to_datetime\n",
    "- merge"
   ]
  }
 ],
 "metadata": {
  "kernelspec": {
   "display_name": "Python 3 (ipykernel)",
   "language": "python",
   "name": "python3"
  },
  "language_info": {
   "codemirror_mode": {
    "name": "ipython",
    "version": 3
   },
   "file_extension": ".py",
   "mimetype": "text/x-python",
   "name": "python",
   "nbconvert_exporter": "python",
   "pygments_lexer": "ipython3",
   "version": "3.9.12"
  }
 },
 "nbformat": 4,
 "nbformat_minor": 4
}
